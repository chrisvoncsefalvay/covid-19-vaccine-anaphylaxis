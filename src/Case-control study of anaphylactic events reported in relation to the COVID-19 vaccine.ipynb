{
 "cells": [
  {
   "cell_type": "code",
   "execution_count": 2,
   "metadata": {},
   "outputs": [
    {
     "name": "stdout",
     "output_type": "stream",
     "text": [
      "Python version: 3.7.5 (v3.7.5:5c02a39a0b, Oct 14 2019, 18:49:57) \n",
      "[Clang 6.0 (clang-600.0.57)]\n",
      "OS version: Darwin-20.2.0-x86_64-i386-64bit\n",
      "pandas version: 1.3.0\n",
      "numpy version: 1.21.0\n",
      "scipy version: 1.7.0\n",
      "statsmodels version: 0.12.2\n"
     ]
    },
    {
     "name": "stderr",
     "output_type": "stream",
     "text": [
      "/Users/csefalvayk/Developer/covid-vaccine-reporting-case-control/venv/lib/python3.7/site-packages/ipykernel_launcher.py:10: TqdmExperimentalWarning: Using `tqdm.autonotebook.tqdm` in notebook mode. Use `tqdm.tqdm` instead to force console mode (e.g. in jupyter console)\n",
      "  # Remove the CWD from sys.path while we load stuff.\n"
     ]
    }
   ],
   "source": [
    "import scipy\n",
    "import statsmodels.api as sm\n",
    "import statsmodels\n",
    "import matplotlib.pyplot as plt\n",
    "import pandas as pd\n",
    "import numpy as np\n",
    "import pymatch\n",
    "from pymatch.Matcher import Matcher\n",
    "import sys, re, platform, glob\n",
    "from tqdm.autonotebook import tqdm\n",
    "\n",
    "tqdm.pandas()\n",
    "\n",
    "import warnings\n",
    "warnings.filterwarnings('ignore')\n",
    "\n",
    "%matplotlib inline\n",
    "\n",
    "# Fixed seed for reproducibility\n",
    "np.random.seed(4072021)\n",
    "\n",
    "print(f\"Python version: {sys.version}\")\n",
    "print(f\"OS version: {platform.platform()}\")\n",
    "print(f\"pandas version: {pd.__version__}\")\n",
    "print(f\"numpy version: {np.__version__}\")\n",
    "print(f\"scipy version: {scipy.__version__}\")\n",
    "print(f\"statsmodels version: {statsmodels.__version__}\")"
   ]
  },
  {
   "cell_type": "markdown",
   "metadata": {},
   "source": [
    "## Analysis"
   ]
  },
  {
   "cell_type": "markdown",
   "metadata": {},
   "source": [
    "### Loading VAERS data\n",
    "\n",
    "Note: for legal reasons, we cannot reproduce the raw VAERS data in Github. However, you can download the VAERS data set\n",
    "from [HHS](https://vaers.hhs.gov)."
   ]
  },
  {
   "cell_type": "code",
   "execution_count": 6,
   "metadata": {
    "pycharm": {
     "name": "#%%\n"
    }
   },
   "outputs": [
    {
     "data": {
      "text/plain": "  0%|          | 0/27 [00:00<?, ?it/s]",
      "application/vnd.jupyter.widget-view+json": {
       "version_major": 2,
       "version_minor": 0,
       "model_id": "45ea7b081e4641c5a53e8887b7733ded"
      }
     },
     "metadata": {},
     "output_type": "display_data"
    },
    {
     "name": "stdout",
     "output_type": "stream",
     "text": [
      "Imported 1421356 vaccinations.\n",
      "After filtering unknowns, 1412542 vaccinations were retained.\n",
      "CPU times: user 1.76 s, sys: 421 ms, total: 2.18 s\n",
      "Wall time: 2.57 s\n"
     ]
    }
   ],
   "source": [
    "%%time\n",
    "\n",
    "path = \"../data/\" # use your path\n",
    "vaccine_files = glob.glob(path + \"*VAERSVAX.csv\")\n",
    "\n",
    "vax_frames = []\n",
    "\n",
    "for filename in tqdm(vaccine_files):\n",
    "    df = pd.read_csv(filename, index_col=None, header=0, encoding=\"latin\")\n",
    "    vax_frames.append(df)\n",
    "\n",
    "vax = pd.concat(vax_frames, axis=0, ignore_index=True)[[\"VAERS_ID\", \"VAX_TYPE\", \"VAX_DOSE_SERIES\", \"VAX_NAME\"]]\n",
    "\n",
    "print(f\"Imported {vax.shape[0]} vaccinations.\")\n",
    "\n",
    "# Discard unknown vaccines\n",
    "vax = vax[vax.VAX_TYPE != \"UNK\"]\n",
    "\n",
    "vax[\"IS_COVID_VACCINE\"] = vax[\"VAX_TYPE\"] == \"COVID19\"\n",
    "\n",
    "print(f\"After filtering unknowns, {vax.shape[0]} vaccinations were retained.\")"
   ]
  },
  {
   "cell_type": "code",
   "execution_count": 7,
   "metadata": {
    "pycharm": {
     "name": "#%%\n"
    }
   },
   "outputs": [
    {
     "data": {
      "text/plain": "  0%|          | 0/27 [00:00<?, ?it/s]",
      "application/vnd.jupyter.widget-view+json": {
       "version_major": 2,
       "version_minor": 0,
       "model_id": "05d61f486659469a8e7382813e0d08c7"
      }
     },
     "metadata": {},
     "output_type": "display_data"
    },
    {
     "name": "stdout",
     "output_type": "stream",
     "text": [
      "Imported 1072351 reports.\n",
      "CPU times: user 10.9 s, sys: 2.02 s, total: 13 s\n",
      "Wall time: 15.9 s\n"
     ]
    }
   ],
   "source": [
    "%%time\n",
    "\n",
    "recipient_files = glob.glob(path + \"*VAERSDATA.csv\")\n",
    "\n",
    "recipient_frames = []\n",
    "\n",
    "for filename in tqdm(recipient_files):\n",
    "    df = pd.read_csv(filename, index_col=None, header=0, encoding=\"latin\")\n",
    "    recipient_frames.append(df)\n",
    "\n",
    "recipients = pd.concat(recipient_frames, axis=0, ignore_index=True)\n",
    "\n",
    "print(f\"Imported {recipients.shape[0]} reports.\")"
   ]
  },
  {
   "cell_type": "code",
   "execution_count": 8,
   "outputs": [
    {
     "data": {
      "text/plain": "(1072351, 35)"
     },
     "execution_count": 8,
     "metadata": {},
     "output_type": "execute_result"
    }
   ],
   "source": [
    "recipients.shape"
   ],
   "metadata": {
    "collapsed": false,
    "pycharm": {
     "name": "#%%\n"
    }
   }
  },
  {
   "cell_type": "code",
   "execution_count": 9,
   "metadata": {
    "pycharm": {
     "name": "#%%\n"
    }
   },
   "outputs": [
    {
     "data": {
      "text/plain": "  0%|          | 0/27 [00:00<?, ?it/s]",
      "application/vnd.jupyter.widget-view+json": {
       "version_major": 2,
       "version_minor": 0,
       "model_id": "9b6bf5954e72417b88f15f41c64ada58"
      }
     },
     "metadata": {},
     "output_type": "display_data"
    },
    {
     "name": "stdout",
     "output_type": "stream",
     "text": [
      "CPU times: user 2.56 s, sys: 752 ms, total: 3.32 s\n",
      "Wall time: 4.82 s\n"
     ]
    }
   ],
   "source": [
    "%%time\n",
    "\n",
    "symptoms_files = glob.glob(path + \"*VAERSSYMPTOMS.csv\")\n",
    "\n",
    "symptoms_frames = []\n",
    "\n",
    "for filename in tqdm(symptoms_files):\n",
    "    df = pd.read_csv(filename, index_col=None, header=0)\n",
    "    symptoms_frames.append(df)\n",
    "\n",
    "symptoms = pd.melt(pd.concat(symptoms_frames, axis=0, ignore_index=True)[[\"VAERS_ID\", \"SYMPTOM1\", \"SYMPTOM2\", \"SYMPTOM3\", \"SYMPTOM4\", \"SYMPTOM5\"]],\n",
    "               id_vars=\"VAERS_ID\",\n",
    "               value_vars=(f\"SYMPTOM{i}\" for i in range(1, 6))).drop(\"variable\", axis=1)\n",
    "\n",
    "symptoms.columns = (\"VAERS_ID\", \"SYMPTOM\")"
   ]
  },
  {
   "cell_type": "code",
   "execution_count": 10,
   "metadata": {
    "pycharm": {
     "name": "#%%\n"
    }
   },
   "outputs": [],
   "source": [
    "anaphylactic_presentations = [\n",
    "    \"Anaphylaxis\",\n",
    "    \"Anaphylaxis systemic\",\n",
    "    \"Anaphylaxis acute\",\n",
    "    \"Anaphylactic shock\",\n",
    "    \"Anaphylactoid shock\",\n",
    "    \"Anaphylactoid reaction\",\n",
    "    \"Anaphylactic and anaphylactoid responses\"\n",
    "]"
   ]
  },
  {
   "cell_type": "code",
   "execution_count": 11,
   "metadata": {
    "pycharm": {
     "name": "#%%\n"
    }
   },
   "outputs": [
    {
     "name": "stdout",
     "output_type": "stream",
     "text": [
      "CPU times: user 1.16 s, sys: 202 ms, total: 1.37 s\n",
      "Wall time: 1.63 s\n"
     ]
    }
   ],
   "source": [
    "%%time\n",
    "\n",
    "symptoms[\"IS_ANAPHYLACTIC\"] = symptoms.SYMPTOM.isin(anaphylactic_presentations)\n",
    "symptoms = symptoms.dropna().groupby(\"VAERS_ID\").agg({\"IS_ANAPHYLACTIC\": np.max})\n",
    "\n"
   ]
  },
  {
   "cell_type": "code",
   "execution_count": 12,
   "metadata": {
    "pycharm": {
     "name": "#%%\n"
    }
   },
   "outputs": [
    {
     "data": {
      "text/plain": "1412038"
     },
     "execution_count": 12,
     "metadata": {},
     "output_type": "execute_result"
    }
   ],
   "source": [
    "data = recipients[[\"VAERS_ID\", \"AGE_YRS\", \"SEX\", \"ALLERGIES\", \"HISTORY\"]].merge(symptoms, left_on=\"VAERS_ID\", right_index=True, how=\"inner\").merge(vax, how=\"inner\")\n",
    "data.index = data.VAERS_ID\n",
    "\n",
    "data.shape[0]"
   ]
  },
  {
   "cell_type": "code",
   "execution_count": 14,
   "metadata": {
    "pycharm": {
     "name": "#%%\n"
    }
   },
   "outputs": [
    {
     "name": "stdout",
     "output_type": "stream",
     "text": [
      "CPU times: user 265 ms, sys: 101 ms, total: 366 ms\n",
      "Wall time: 435 ms\n"
     ]
    },
    {
     "data": {
      "text/plain": "1255169"
     },
     "execution_count": 14,
     "metadata": {},
     "output_type": "execute_result"
    }
   ],
   "source": [
    "%%time\n",
    "\n",
    "df = data[[\"VAERS_ID\", \"AGE_YRS\", \"SEX\", \"IS_ANAPHYLACTIC\", \"IS_COVID_VACCINE\"]].dropna()\n",
    "\n",
    "pd.crosstab(df.IS_COVID_VACCINE, df.IS_ANAPHYLACTIC).sort_index(ascending=False).sort_index(axis=1, ascending=False)"
   ]
  },
  {
   "cell_type": "code",
   "execution_count": 15,
   "outputs": [
    {
     "data": {
      "text/plain": "1255169"
     },
     "execution_count": 15,
     "metadata": {},
     "output_type": "execute_result"
    }
   ],
   "source": [
    "df.shape[0]"
   ],
   "metadata": {
    "collapsed": false,
    "pycharm": {
     "name": "#%%\n"
    }
   }
  },
  {
   "cell_type": "code",
   "execution_count": null,
   "metadata": {
    "pycharm": {
     "name": "#%%\n"
    }
   },
   "outputs": [],
   "source": [
    "cases = data[data.IS_ANAPHYLACTIC == True][[\"VAERS_ID\", \"AGE_YRS\", \"SEX\", \"IS_ANAPHYLACTIC\", \"IS_COVID_VACCINE\"]]\n",
    "controls = data[data.IS_ANAPHYLACTIC == False][[\"VAERS_ID\", \"AGE_YRS\", \"SEX\", \"IS_ANAPHYLACTIC\", \"IS_COVID_VACCINE\"]]"
   ]
  },
  {
   "cell_type": "code",
   "execution_count": null,
   "metadata": {
    "pycharm": {
     "name": "#%%\n"
    }
   },
   "outputs": [],
   "source": [
    "m = Matcher(cases, controls, yvar=\"IS_ANAPHYLACTIC\", exclude=[\"VAERS_ID\", \"IS_COVID_VACCINE\"])"
   ]
  },
  {
   "cell_type": "code",
   "execution_count": null,
   "metadata": {
    "pycharm": {
     "name": "#%%\n"
    }
   },
   "outputs": [],
   "source": [
    "%%time\n",
    "\n",
    "m.fit_scores(balance=True, nmodels=100)"
   ]
  },
  {
   "cell_type": "code",
   "execution_count": null,
   "metadata": {
    "pycharm": {
     "name": "#%%\n"
    }
   },
   "outputs": [],
   "source": [
    "%%time\n",
    "\n",
    "m.predict_scores()"
   ]
  },
  {
   "cell_type": "code",
   "execution_count": null,
   "metadata": {
    "pycharm": {
     "name": "#%%\n"
    }
   },
   "outputs": [],
   "source": [
    "m.plot_scores()\n",
    "plt.savefig(\"../writeup/propensity_scores.pdf\")"
   ]
  },
  {
   "cell_type": "code",
   "execution_count": null,
   "metadata": {
    "pycharm": {
     "name": "#%%\n"
    }
   },
   "outputs": [],
   "source": [
    "%%time\n",
    "\n",
    "m.match(method=\"random\", nmatches=3)"
   ]
  },
  {
   "cell_type": "code",
   "execution_count": null,
   "metadata": {
    "pycharm": {
     "name": "#%%\n"
    }
   },
   "outputs": [],
   "source": [
    "%%time\n",
    "\n",
    "m.record_frequency()"
   ]
  },
  {
   "cell_type": "code",
   "execution_count": null,
   "metadata": {
    "pycharm": {
     "name": "#%%\n"
    }
   },
   "outputs": [],
   "source": [
    "%%time\n",
    "\n",
    "m.assign_weight_vector()"
   ]
  },
  {
   "cell_type": "code",
   "execution_count": null,
   "metadata": {
    "pycharm": {
     "name": "#%%\n"
    }
   },
   "outputs": [],
   "source": [
    "df = m.matched_data[m.matched_data.VAERS_ID.isin(df.VAERS_ID)].merge(vax[[\"VAERS_ID\", \"VAX_TYPE\"]])"
   ]
  },
  {
   "cell_type": "markdown",
   "metadata": {
    "pycharm": {
     "name": "#%% md\n"
    }
   },
   "source": [
    "### Anaphylaxis OR for all COVID-19 vaccines"
   ]
  },
  {
   "cell_type": "code",
   "execution_count": null,
   "metadata": {
    "pycharm": {
     "name": "#%%\n"
    }
   },
   "outputs": [],
   "source": [
    "pd.crosstab(df.VAX_TYPE == \"COVID19\", df.IS_ANAPHYLACTIC).rename(columns={0: False, 1: True}).sort_index(ascending=False).sort_index(axis=1, ascending=False)"
   ]
  },
  {
   "cell_type": "code",
   "execution_count": null,
   "metadata": {
    "pycharm": {
     "name": "#%%\n"
    }
   },
   "outputs": [],
   "source": [
    "contingency_table = sm.stats.Table2x2(pd.crosstab(df.VAX_TYPE == \"COVID19\", df.IS_ANAPHYLACTIC).rename(columns={0: False, 1: True}).sort_index(ascending=False).sort_index(axis=1, ascending=False))\n",
    "\n",
    "print(f\"OR for anaphylaxis: {contingency_table.oddsratio:.3f} @ p = {contingency_table.oddsratio_pvalue():.3f}\")\n",
    "print(f\"CI: {contingency_table.oddsratio_confint()[0]:.3f} –– {contingency_table.oddsratio_confint()[1]:.3f}\")"
   ]
  },
  {
   "cell_type": "markdown",
   "metadata": {
    "pycharm": {
     "name": "#%% md\n"
    }
   },
   "source": [
    "### Anaphylaxis OR by vaccine type"
   ]
  },
  {
   "cell_type": "code",
   "execution_count": null,
   "metadata": {
    "pycharm": {
     "name": "#%%\n"
    }
   },
   "outputs": [],
   "source": [
    "odds_ratios_by_vax_type = pd.DataFrame(index = df.VAX_TYPE.unique(),\n",
    "                                       columns = (\"ROR\", \"p_value\", \"95CI_lower\", \"95CI_upper\"))\n",
    "\n",
    "for vax_type in tqdm(df.VAX_TYPE.unique()):\n",
    "    ct = sm.stats.Table2x2(pd.crosstab(df.VAX_TYPE == vax_type, df.IS_ANAPHYLACTIC).rename(columns={0: False, 1: True}).sort_index(ascending=False).sort_index(axis=1, ascending=False))\n",
    "    if ct.table_orig[True][True] >= 15:\n",
    "        odds_ratios_by_vax_type.loc[vax_type, \"ROR\"] = ct.oddsratio\n",
    "        odds_ratios_by_vax_type.loc[vax_type, \"p_value\"] = ct.oddsratio_pvalue()\n",
    "        odds_ratios_by_vax_type.loc[vax_type, \"95CI_lower\"] = ct.oddsratio_confint()[0]\n",
    "        odds_ratios_by_vax_type.loc[vax_type, \"95CI_upper\"] = ct.oddsratio_confint()[1]"
   ]
  },
  {
   "cell_type": "code",
   "execution_count": null,
   "metadata": {
    "pycharm": {
     "name": "#%%\n"
    }
   },
   "outputs": [],
   "source": [
    "ors = odds_ratios_by_vax_type.dropna().drop(\"OPV\")\n",
    "ors.to_csv(\"../supplementary/odds_ratios_by_vaccine_type_for_anaphylaxis.csv\")"
   ]
  },
  {
   "cell_type": "code",
   "execution_count": null,
   "metadata": {
    "pycharm": {
     "name": "#%%\n"
    }
   },
   "outputs": [],
   "source": [
    "WHISKER:float = 0.175\n",
    "\n",
    "ors = ors.sort_values(\"ROR\", ascending=False)\n",
    "\n",
    "fig, ax = plt.subplots(figsize=(14, 10), dpi=600)\n",
    "\n",
    "ax.scatter(ors.ROR, ors.index, marker=\"D\", color=\"k\", alpha=0.5)\n",
    "ax.scatter(ors[ors.p_value < 0.05].ROR, ors[ors.p_value < 0.05].index, marker=\"D\", color=\"r\", alpha=1.0)\n",
    "\n",
    "ax.vlines(x=1, ymin=0, ymax=len(ors.index), colors=\"k\")\n",
    "ax.vlines(x=2, ymin=0, ymax=len(ors.index), colors=\"k\", linestyles=\"--\")\n",
    "\n",
    "for idx, val in enumerate(ors.index):\n",
    "    ax.hlines(y=idx, xmin=ors.loc[val, \"95CI_lower\"], xmax=ors.loc[val, \"95CI_upper\"], color=\"k\", lw=0.3, alpha=0.8)\n",
    "    pvalue_marker = \"***\" if ors.loc[val, \"p_value\"] < 0.001 else (\"**\" if ors.loc[val, \"p_value\"] < 0.005 else (\"*\" if ors.loc[val, \"p_value\"] < 0.05 else \"\"))\n",
    "    ax.text(y = idx + 0.3, x = ors.loc[val, \"ROR\"], s = f\"{ors.loc[val, 'ROR']:.2f}{pvalue_marker}\", horizontalalignment=\"center\", fontsize=\"x-small\")\n",
    "    ax.vlines(x=ors.loc[val, \"95CI_lower\"], ymin=idx-WHISKER, ymax=idx+WHISKER, color=\"k\", lw=0.3)\n",
    "    ax.vlines(x=ors.loc[val, \"95CI_upper\"], ymin=idx-WHISKER, ymax=idx+WHISKER, color=\"k\", lw=0.3)\n",
    "\n",
    "ax.set_xscale(\"log\")\n",
    "ax.set_xlim(1e-1, 3.5e1)\n",
    "\n",
    "ax.spines.left.set_position((\"axes\", 0.0))\n",
    "ax.spines.right.set_color(\"none\")\n",
    "ax.spines.bottom.set_position((\"axes\", 0))\n",
    "ax.spines.top.set_color(\"none\")\n",
    "ax.xaxis.set_ticks_position(\"bottom\")\n",
    "ax.yaxis.set_ticks_position(\"left\")\n",
    "\n",
    "ax.set_xticks([0.25, 0.5, 0.75, 2, 3, 4, 5, 10, 15])\n",
    "ax.set_xticklabels([0.25, 0.5, 0.75, 2, 3, 4, 5, 10, 15])\n",
    "\n",
    "ax.set_yticks([\"TDAP\", \"HEPA\", \"VARCEL\", \"IPV\", \"COVID19\", \"DTAP\", \"PPV\", \"MMR\", \"HIBV\", \"RV5\", \"FLUX\", \"FLU3\", \"TD\", \"HEP\", \"DTP\"])\n",
    "ax.set_yticklabels([\"TDaP\", \"Hepatitis A\", \"Varicella,\\nlive\", \"Poliomyelitis,\\ninjectable\", \"COVID-19,\\nall types\", \"DTaP\", \"Pneumococcal\", \"MMR\", \"H. influenzae\\nconjungate\", \"Rotavirus, live,\\noral, pentavalent\", \"Influenza, seasonal,\\nunknown valency\", \"Influenza, seasonal,\\ntrivalent\", \"Tetanus and diphtheria\\ntoxoid, adults\", \"Hepatitis B\", \"Diphtheria and tetanus\\ntoxoids and pertussis\"])\n",
    "\n",
    "plt.tight_layout()\n",
    "plt.savefig(\"../writeup/forest_plot_of_anaphylaxis.pdf\")\n",
    "\n",
    "plt.show()\n"
   ]
  },
  {
   "cell_type": "markdown",
   "metadata": {
    "pycharm": {
     "name": "#%% md\n"
    }
   },
   "source": [
    "### Odds ratios by gender\n"
   ]
  },
  {
   "cell_type": "code",
   "execution_count": null,
   "metadata": {
    "pycharm": {
     "name": "#%%\n"
    }
   },
   "outputs": [],
   "source": [
    "odds_ratios_by_gender = pd.DataFrame(columns = (\"ROR\", \"p_value\", \"95CI_lower\", \"95CI_upper\"))\n",
    "\n",
    "for gender in tqdm(data[data.VAERS_ID.isin(m.matched_data.VAERS_ID.unique())].SEX.unique()):\n",
    "    df = data[(data.VAERS_ID.isin(m.matched_data.VAERS_ID.unique())) & (data.SEX == gender)]\n",
    "    ct = sm.stats.Table2x2(pd.crosstab(df.IS_COVID_VACCINE, df.IS_ANAPHYLACTIC).rename(columns={0: False, 1: True}).sort_index(ascending=False).sort_index(axis=1, ascending=False))\n",
    "    if ct.table_orig[True][True] >= 15:\n",
    "        odds_ratios_by_gender.loc[gender, \"ROR\"] = ct.oddsratio\n",
    "        odds_ratios_by_gender.loc[gender, \"p_value\"] = ct.oddsratio_pvalue()\n",
    "        odds_ratios_by_gender.loc[gender, \"95CI_lower\"] = ct.oddsratio_confint()[0]\n",
    "        odds_ratios_by_gender.loc[gender, \"95CI_upper\"] = ct.oddsratio_confint()[1]\n"
   ]
  },
  {
   "cell_type": "markdown",
   "metadata": {},
   "source": [
    "### Odds ratios by age band"
   ]
  },
  {
   "cell_type": "code",
   "execution_count": null,
   "metadata": {
    "pycharm": {
     "name": "#%%\n"
    }
   },
   "outputs": [],
   "source": [
    "odds_ratios_by_age_band = pd.DataFrame(columns = (\"ROR\", \"p_value\", \"95CI_lower\", \"95CI_upper\"))"
   ]
  },
  {
   "cell_type": "code",
   "execution_count": null,
   "metadata": {
    "pycharm": {
     "name": "#%%\n"
    }
   },
   "outputs": [],
   "source": [
    "data[\"age_band\"] = pd.cut(data.AGE_YRS,\n",
    "                          bins=(0, 18, 25, 35, 45, 55, 65, 75, 85, 95, 120),\n",
    "                          labels=(\"<18\", \"19-25\", \"26-35\", \"36-45\", \"46-55\", \"56-65\", \"66-75\", \"76-85\", \"86-95\", \">95\"),\n",
    "                          right=True)"
   ]
  },
  {
   "cell_type": "code",
   "execution_count": null,
   "metadata": {
    "pycharm": {
     "name": "#%%\n"
    }
   },
   "outputs": [],
   "source": [
    "for age_band in tqdm(data[data.VAERS_ID.isin(m.matched_data.VAERS_ID.unique())].age_band.unique()):\n",
    "    try:\n",
    "        df = data[(data[\"age_band\"] == age_band) & (data.VAERS_ID.isin(m.matched_data.VAERS_ID.unique()))]\n",
    "        xt = pd.crosstab(df.IS_COVID_VACCINE, df.IS_ANAPHYLACTIC).rename(columns={0: False, 1: True}).sort_index(ascending=False).sort_index(axis=1, ascending=False)\n",
    "        ct = sm.stats.Table2x2(xt)\n",
    "        odds_ratios_by_age_band.loc[age_band, \"ROR\"] = ct.oddsratio\n",
    "        odds_ratios_by_age_band.loc[age_band, \"p_value\"] = ct.oddsratio_pvalue()\n",
    "        odds_ratios_by_age_band.loc[age_band, \"95CI_lower\"] = ct.oddsratio_confint()[0]\n",
    "        odds_ratios_by_age_band.loc[age_band, \"95CI_upper\"] = ct.oddsratio_confint()[1]\n",
    "    except ValueError:\n",
    "        continue"
   ]
  },
  {
   "cell_type": "code",
   "execution_count": null,
   "metadata": {
    "pycharm": {
     "name": "#%%\n"
    }
   },
   "outputs": [],
   "source": [
    "WHISKER:float = 0.175\n",
    "\n",
    "fig, ax = plt.subplots(figsize=(6, 5), dpi=600)\n",
    "\n",
    "odds_ratios_by_age_band.index = pd.CategoricalIndex(odds_ratios_by_age_band.index,\n",
    "                                                    categories = [\"<18\", \"19-25\", \"26-35\", \"36-45\", \"46-55\", \"56-65\", \"66-75\", \"76-85\", \"86-95\"],\n",
    "                                                    ordered=True)\n",
    "\n",
    "odds_ratios_by_age_band = odds_ratios_by_age_band.sort_index(ascending=False)\n",
    "\n",
    "ax.scatter(odds_ratios_by_age_band.ROR, odds_ratios_by_age_band.index, marker=\"D\", color=\"k\", alpha=0.5)\n",
    "ax.scatter(odds_ratios_by_age_band[odds_ratios_by_age_band.p_value < 0.05].ROR, odds_ratios_by_age_band[odds_ratios_by_age_band.p_value < 0.05].index, marker=\"D\", color=\"r\", alpha=1.0)\n",
    "\n",
    "ax.vlines(x=1, ymin=-1, ymax=len(odds_ratios_by_age_band.index), colors=\"k\")\n",
    "\n",
    "for idx, val in enumerate(odds_ratios_by_age_band.index):\n",
    "    ax.hlines(y=idx, xmin=odds_ratios_by_age_band.loc[val, \"95CI_lower\"], xmax=odds_ratios_by_age_band.loc[val, \"95CI_upper\"], color=\"k\", lw=0.3, alpha=0.8)\n",
    "    pvalue_marker = \"***\" if odds_ratios_by_age_band.loc[val, \"p_value\"] < 0.001 else (\"**\" if odds_ratios_by_age_band.loc[val, \"p_value\"] < 0.005 else (\"*\" if odds_ratios_by_age_band.loc[val, \"p_value\"] < 0.05 else \"\"))\n",
    "    ax.text(y = idx + 0.3, x = odds_ratios_by_age_band.loc[val, \"ROR\"], s = f\"{odds_ratios_by_age_band.loc[val, 'ROR']:.2f}{pvalue_marker}\", horizontalalignment=\"center\", fontsize=\"x-small\")\n",
    "    ax.vlines(x=odds_ratios_by_age_band.loc[val, \"95CI_lower\"], ymin=idx-WHISKER, ymax=idx+WHISKER, color=\"k\", lw=0.3)\n",
    "    ax.vlines(x=odds_ratios_by_age_band.loc[val, \"95CI_upper\"], ymin=idx-WHISKER, ymax=idx+WHISKER, color=\"k\", lw=0.3)\n",
    "\n",
    "ax.set_xscale(\"log\")\n",
    "ax.set_xlim(4e-2, 4e0)\n",
    "\n",
    "ax.spines.left.set_position((\"axes\", 0.0))\n",
    "ax.spines.right.set_color(\"none\")\n",
    "ax.spines.bottom.set_position((\"axes\", 0.05))\n",
    "ax.spines.top.set_color(\"none\")\n",
    "ax.xaxis.set_ticks_position(\"bottom\")\n",
    "ax.yaxis.set_ticks_position(\"left\")\n",
    "\n",
    "ax.set_xticks([0.05, 0.1, 0.25, 0.5, 0.75, 1, 2])\n",
    "ax.set_xticklabels([0.05, 0.10, 0.25, 0.5, 0.75, 1, 2])\n",
    "\n",
    "plt.tight_layout()\n",
    "plt.savefig(\"../writeup/forest_plot_of_anaphylaxis_by_age.pdf\")\n",
    "\n",
    "plt.show()\n"
   ]
  },
  {
   "cell_type": "markdown",
   "metadata": {},
   "source": [
    "### Odds ratios by known allergies"
   ]
  },
  {
   "cell_type": "code",
   "execution_count": null,
   "metadata": {
    "pycharm": {
     "name": "#%%\n"
    }
   },
   "outputs": [],
   "source": [
    "extractors:dict = {\n",
    "    \"Opioids\": r\".*(cod(e)?(i|o)n(e)?|orphine|fenta|CDN|Demerol|contin|(o|i)cet|dilaud|methad|talwin|pentazocin(e)?).*\",\n",
    "    \"Latex\": r\".*latex.*\",\n",
    "    \"Macrolide and amino-\\nglycoside antibiotics\": r\".*(mycin|Zithro|Z-pack|macroli|neosporin).*\",\n",
    "    \"Tetracycline\\nantibiotics\": r\".*(cycline).*\",\n",
    "    \"Sulfas\": r\".*(sulf(a|ur|onam)|bactrim|sulfamet|SMX).*\",\n",
    "    \"Beta-lactam\\nantbiotics\": r\".*(pen(n)?(i|e)|keflex|ce(f|ph)a|cill(l)?in|augmentin|PCN|amox|roce(f|ph)).*\",\n",
    "    \"Fluoroquinolone\\nantibiotics\": r\".*(floxacin|cipro|quinolo).*\",\n",
    "    \"HCTZ\": \".*(h(ctz|ydrochlorothiazide)).*\",\n",
    "    \"Glycols\": r\".*(PEG|(polyeth|prop)ylene glycol).*\",\n",
    "    \"Local anaesthetics\": r\".*(caine).*\",\n",
    "    \"Known vaccine\\nhypersensitivities\": r\".*(va(x|cc)|bexsero|mmr|tetanus|tdap|dtap|prevnar|pneumovax|shingles|hepatitis).*\",\n",
    "    \"Fish and/or\\nseafood\": r\".*(fish|sea(\\s)?food|mussels|crab|scallops).*\",\n",
    "    \"Insect stings\": r\".*(bee|wasp|sting).*\",\n",
    "    \"Eggs\": r\".*(egg).*\",\n",
    "    \"NSAIDs\": r\".*(ibuprofen|motrin|advil|acetamino|nsaid|coxib|celebrex|APAP|as(a|pirin)|voltaren|naprox|to(d|r)olac|vioxx|mobic).*\",\n",
    "    \"Peanuts and\\ntree nuts\": r\".*(nut).*\"\n",
    "}"
   ]
  },
  {
   "cell_type": "code",
   "execution_count": null,
   "metadata": {
    "pycharm": {
     "name": "#%%\n"
    }
   },
   "outputs": [],
   "source": [
    "odds_ratios_by_preexisting_allergy = pd.DataFrame(columns = (\"ROR\", \"p_value\", \"95CI_lower\", \"95CI_upper\"))"
   ]
  },
  {
   "cell_type": "code",
   "execution_count": null,
   "metadata": {
    "pycharm": {
     "name": "#%%\n"
    }
   },
   "outputs": [],
   "source": [
    "for key in tqdm(extractors):\n",
    "    try:\n",
    "        df = data[data.VAERS_ID.isin(m.matched_data.VAERS_ID.unique())].dropna()[data[data.VAERS_ID.isin(m.matched_data.VAERS_ID.unique())].dropna().ALLERGIES.str.match(re.compile(extractors[key], re.IGNORECASE))]\n",
    "        xt = pd.crosstab(df.IS_COVID_VACCINE, df.IS_ANAPHYLACTIC).rename(columns={0: False, 1: True}).sort_index(ascending=False).sort_index(axis=1, ascending=False)\n",
    "        ct = sm.stats.Table2x2(xt)\n",
    "        odds_ratios_by_preexisting_allergy.loc[key, \"ROR\"] = ct.oddsratio\n",
    "        odds_ratios_by_preexisting_allergy.loc[key, \"p_value\"] = ct.oddsratio_pvalue()\n",
    "        odds_ratios_by_preexisting_allergy.loc[key, \"95CI_lower\"] = ct.oddsratio_confint()[0]\n",
    "        odds_ratios_by_preexisting_allergy.loc[key, \"95CI_upper\"] = ct.oddsratio_confint()[1]\n",
    "    except ValueError:\n",
    "        continue\n"
   ]
  },
  {
   "cell_type": "code",
   "execution_count": null,
   "metadata": {
    "pycharm": {
     "name": "#%%\n"
    }
   },
   "outputs": [],
   "source": [
    "WHISKER:float = 0.175\n",
    "\n",
    "fig, ax = plt.subplots(figsize=(10, 10), dpi=600)\n",
    "\n",
    "odds_ratios_by_preexisting_allergy = odds_ratios_by_preexisting_allergy.sort_values(\"ROR\", ascending=False)\n",
    "\n",
    "ax.scatter(odds_ratios_by_preexisting_allergy.ROR, odds_ratios_by_preexisting_allergy.index, marker=\"D\", color=\"k\", alpha=0.5)\n",
    "ax.scatter(odds_ratios_by_preexisting_allergy[odds_ratios_by_preexisting_allergy.p_value < 0.05].ROR, odds_ratios_by_preexisting_allergy[odds_ratios_by_preexisting_allergy.p_value < 0.05].index, marker=\"D\", color=\"r\", alpha=1.0)\n",
    "\n",
    "ax.vlines(x=1, ymin=-1, ymax=len(odds_ratios_by_preexisting_allergy.index), colors=\"k\")\n",
    "\n",
    "for idx, val in enumerate(odds_ratios_by_preexisting_allergy.index):\n",
    "    ax.hlines(y=idx, xmin=odds_ratios_by_preexisting_allergy.loc[val, \"95CI_lower\"], xmax=odds_ratios_by_preexisting_allergy.loc[val, \"95CI_upper\"], color=\"k\", lw=0.3, alpha=0.8)\n",
    "    pvalue_marker = \"***\" if odds_ratios_by_preexisting_allergy.loc[val, \"p_value\"] < 0.001 else (\"**\" if odds_ratios_by_preexisting_allergy.loc[val, \"p_value\"] < 0.005 else (\"*\" if odds_ratios_by_preexisting_allergy.loc[val, \"p_value\"] < 0.05 else \"\"))\n",
    "    ax.text(y = idx + 0.3, x = odds_ratios_by_preexisting_allergy.loc[val, \"ROR\"], s = f\"{odds_ratios_by_preexisting_allergy.loc[val, 'ROR']:.2f}{pvalue_marker}\", horizontalalignment=\"center\", fontsize=\"x-small\")\n",
    "    ax.vlines(x=odds_ratios_by_preexisting_allergy.loc[val, \"95CI_lower\"], ymin=idx-WHISKER, ymax=idx+WHISKER, color=\"k\", lw=0.3)\n",
    "    ax.vlines(x=odds_ratios_by_preexisting_allergy.loc[val, \"95CI_upper\"], ymin=idx-WHISKER, ymax=idx+WHISKER, color=\"k\", lw=0.3)\n",
    "\n",
    "ax.set_xscale(\"log\")\n",
    "ax.set_xlim(4e-2, 2e1)\n",
    "\n",
    "ax.spines.left.set_position((\"axes\", 0.0))\n",
    "ax.spines.right.set_color(\"none\")\n",
    "ax.spines.bottom.set_position((\"axes\", 0.05))\n",
    "ax.spines.top.set_color(\"none\")\n",
    "ax.xaxis.set_ticks_position(\"bottom\")\n",
    "ax.yaxis.set_ticks_position(\"left\")\n",
    "\n",
    "ax.set_xticks([0.05, 0.1, 0.25, 0.5, 0.75, 1, 2, 5, 10])\n",
    "ax.set_xticklabels([0.05, 0.10, 0.25, 0.5, 0.75, 1, 2, 5, 10])\n",
    "\n",
    "plt.tight_layout()\n",
    "plt.savefig(\"../writeup/forest_plot_of_anaphylaxis_by_known_allergies.pdf\")\n",
    "\n",
    "plt.show()"
   ]
  },
  {
   "cell_type": "markdown",
   "metadata": {},
   "source": [
    "### Odds ratios by history"
   ]
  },
  {
   "cell_type": "code",
   "execution_count": null,
   "metadata": {
    "pycharm": {
     "name": "#%%\n"
    }
   },
   "outputs": [],
   "source": [
    "extractors:dict = {\n",
    "    \"Anaphylaxis\": r\".*(anaphyla(c|x)).*\",\n",
    "    \"Asthma\": r\".*(asthma).*\",\n",
    "    \"Atopic dermatitis\\nand eczema\": r\".*((atopic dermatitis)|eczema|rash|hives).*\",\n",
    "    \"Allergies, NOS\": r\".*(allerg(y|i(es|c))|(previous reaction)).*\",\n",
    "    \"Seasonal allergies\\nand rhinitis\": r\".*(hay fever|seasonal|rhin(osinus)?itis).*\",\n",
    "    \"Mast cell disorders\": r\".*(mast(\\scell|ocytos)|MCAS).*\",\n",
    "    \"Coeliac disease\": r\".*(gluten|c(o)?eliac).*\",\n",
    "    \"Lactose intolerance\": r\".*(lactose intolerance).*\",\n",
    "    \"Idiopathic anaphylaxis,\\nHAE and related conditions\": r\".*((HAE|hereditary angi(o)?edema|C(-)?1)|(idiopathic anaphylaxis)).*\",\n",
    "    \"Diabetes\": r\".*(diabetes|(N)?IDDM|T(1|2)D).*\",\n",
    "    \"Obesity\": r\".*(obes|overw|BMI|body mass).*\",\n",
    "    \"Hypertension\": r\".*(HTN|hypertension|(high|elevated) (BP|blood pressure)).*\",\n",
    "    \"Hypothyroidism\\nand related\": r\".*(hypothyroid|Hashimoto|thyroiditis).*\",\n",
    "    \"Past\\nCOVID-19\": r\".*co(vid|ronavirus).*\"\n",
    "}"
   ]
  },
  {
   "cell_type": "code",
   "execution_count": null,
   "metadata": {
    "pycharm": {
     "name": "#%%\n"
    }
   },
   "outputs": [],
   "source": [
    "odds_ratios_by_history = pd.DataFrame(columns = (\"ROR\", \"p_value\", \"95CI_lower\", \"95CI_upper\"))"
   ]
  },
  {
   "cell_type": "code",
   "execution_count": null,
   "metadata": {
    "pycharm": {
     "name": "#%%\n"
    }
   },
   "outputs": [],
   "source": [
    "for key in tqdm(extractors):\n",
    "    try:\n",
    "        df = data[data.VAERS_ID.isin(m.matched_data.VAERS_ID.unique())].dropna()[data[data.VAERS_ID.isin(m.matched_data.VAERS_ID.unique())].dropna().HISTORY.str.match(re.compile(extractors[key], re.IGNORECASE))]\n",
    "        xt = pd.crosstab(df.IS_COVID_VACCINE, df.IS_ANAPHYLACTIC).rename(columns={0: False, 1: True}).sort_index(ascending=False).sort_index(axis=1, ascending=False)\n",
    "        ct = sm.stats.Table2x2(xt)\n",
    "        odds_ratios_by_history.loc[key, \"ROR\"] = ct.oddsratio\n",
    "        odds_ratios_by_history.loc[key, \"p_value\"] = ct.oddsratio_pvalue()\n",
    "        odds_ratios_by_history.loc[key, \"95CI_lower\"] = ct.oddsratio_confint()[0]\n",
    "        odds_ratios_by_history.loc[key, \"95CI_upper\"] = ct.oddsratio_confint()[1]\n",
    "    except ValueError:\n",
    "        continue\n"
   ]
  },
  {
   "cell_type": "code",
   "execution_count": null,
   "metadata": {
    "pycharm": {
     "name": "#%%\n"
    }
   },
   "outputs": [],
   "source": [
    "WHISKER:float = 0.175\n",
    "\n",
    "fig, ax = plt.subplots(figsize=(10, 5), dpi=600)\n",
    "\n",
    "odds_ratios_by_history = odds_ratios_by_history.sort_values(\"ROR\", ascending=False)\n",
    "\n",
    "ax.scatter(odds_ratios_by_history.ROR, odds_ratios_by_history.index, marker=\"D\", color=\"k\", alpha=0.5)\n",
    "ax.scatter(odds_ratios_by_history[odds_ratios_by_history.p_value < 0.05].ROR, odds_ratios_by_history[odds_ratios_by_history.p_value < 0.05].index, marker=\"D\", color=\"r\", alpha=1.0)\n",
    "\n",
    "ax.vlines(x=1, ymin=-1, ymax=len(odds_ratios_by_history.index), colors=\"k\")\n",
    "\n",
    "for idx, val in enumerate(odds_ratios_by_history.index):\n",
    "    ax.hlines(y=idx, xmin=odds_ratios_by_history.loc[val, \"95CI_lower\"], xmax=odds_ratios_by_history.loc[val, \"95CI_upper\"], color=\"k\", lw=0.3, alpha=0.8)\n",
    "    pvalue_marker = \"***\" if odds_ratios_by_history.loc[val, \"p_value\"] < 0.001 else (\"**\" if odds_ratios_by_history.loc[val, \"p_value\"] < 0.005 else (\"*\" if odds_ratios_by_history.loc[val, \"p_value\"] < 0.05 else \"\"))\n",
    "    ax.text(y = idx + 0.3, x = odds_ratios_by_history.loc[val, \"ROR\"], s = f\"{odds_ratios_by_history.loc[val, 'ROR']:.2f}{pvalue_marker}\", horizontalalignment=\"center\", fontsize=\"x-small\")\n",
    "    ax.vlines(x=odds_ratios_by_history.loc[val, \"95CI_lower\"], ymin=idx-WHISKER, ymax=idx+WHISKER, color=\"k\", lw=0.3)\n",
    "    ax.vlines(x=odds_ratios_by_history.loc[val, \"95CI_upper\"], ymin=idx-WHISKER, ymax=idx+WHISKER, color=\"k\", lw=0.3)\n",
    "\n",
    "ax.set_xscale(\"log\")\n",
    "ax.set_xlim(4e-2, 2e1)\n",
    "\n",
    "ax.spines.left.set_position((\"axes\", 0.0))\n",
    "ax.spines.right.set_color(\"none\")\n",
    "ax.spines.bottom.set_position((\"axes\", 0.05))\n",
    "ax.spines.top.set_color(\"none\")\n",
    "ax.xaxis.set_ticks_position(\"bottom\")\n",
    "ax.yaxis.set_ticks_position(\"left\")\n",
    "\n",
    "ax.set_xticks([0.05, 0.1, 0.25, 0.5, 0.75, 1, 2, 5, 10])\n",
    "ax.set_xticklabels([0.05, 0.10, 0.25, 0.5, 0.75, 1, 2, 5, 10])\n",
    "\n",
    "plt.tight_layout()\n",
    "plt.savefig(\"../writeup/forest_plot_of_anaphylaxis_by_history.pdf\")\n",
    "\n",
    "plt.show()"
   ]
  }
 ],
 "metadata": {
  "kernelspec": {
   "display_name": "Python 3 (ipykernel)",
   "language": "python",
   "name": "python3"
  },
  "language_info": {
   "codemirror_mode": {
    "name": "ipython",
    "version": 3
   },
   "file_extension": ".py",
   "mimetype": "text/x-python",
   "name": "python",
   "nbconvert_exporter": "python",
   "pygments_lexer": "ipython3",
   "version": "3.7.5"
  },
  "toc": {
   "base_numbering": 1,
   "nav_menu": {},
   "number_sections": true,
   "sideBar": true,
   "skip_h1_title": false,
   "title_cell": "Table of Contents",
   "title_sidebar": "Contents",
   "toc_cell": false,
   "toc_position": {},
   "toc_section_display": true,
   "toc_window_display": false
  }
 },
 "nbformat": 4,
 "nbformat_minor": 1
}